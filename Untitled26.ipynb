{
  "nbformat": 4,
  "nbformat_minor": 0,
  "metadata": {
    "colab": {
      "provenance": []
    },
    "kernelspec": {
      "name": "python3",
      "display_name": "Python 3"
    },
    "language_info": {
      "name": "python"
    }
  },
  "cells": [
    {
      "cell_type": "markdown",
      "source": [
        "Q1. Explain GET and POST methods."
      ],
      "metadata": {
        "id": "Fc0G-auQODlc"
      }
    },
    {
      "cell_type": "markdown",
      "source": [
        "GET and POST are HTTP methods used to submit data to a web server. Here's a brief explanation of each:\n",
        "\n",
        "GET method:\n",
        "The GET method is used to retrieve data from the server. In this method, the data is passed to the server in the URL itself, as a query string. The data is visible in the URL, which can be bookmarked, cached, and shared. This method is typically used to retrieve information from a server and display it on a web page. However, it should not be used for sensitive information, such as passwords or credit card numbers.\n",
        "\n",
        "POST method:\n",
        "The POST method is used to submit data to a server to create or update a resource. In this method, the data is sent to the server in the HTTP request body. The data is not visible in the URL, which means that it cannot be bookmarked, cached, or shared. This method is typically used to send sensitive information, such as passwords, credit card numbers, and other user data to a server.\n",
        "\n",
        "In summary, GET is used to retrieve data from the server, while POST is used to submit data to the server."
      ],
      "metadata": {
        "id": "9QJApyJyOG14"
      }
    },
    {
      "cell_type": "markdown",
      "source": [
        "Q2. Why is request used in Flask?"
      ],
      "metadata": {
        "id": "rsooRitJOLUP"
      }
    },
    {
      "cell_type": "markdown",
      "source": [
        "n Flask, the request object is used to access incoming request data from the client. It is an important part of building web applications as it allows developers to interact with the data being sent by the client to the server. Here are some reasons why the request object is used in Flask:\n",
        "\n",
        "Retrieve form data:\n",
        "The request object can be used to retrieve data submitted via HTML forms. This data can then be used to process user input and perform actions on the server side.\n",
        "\n",
        "Access URL parameters:\n",
        "The request object can also be used to access URL parameters. This allows developers to create dynamic web pages and provide users with customized content based on their inputs.\n",
        "\n",
        "Retrieve headers:\n",
        "The request object can be used to retrieve headers from the HTTP request. Headers can contain important information such as authentication tokens or user agent data.\n",
        "\n",
        "File uploads:\n",
        "The request object can be used to handle file uploads from users. It allows developers to retrieve and process files that have been uploaded by the user.\n",
        "\n",
        "In summary, the request object is an essential part of building web applications with Flask as it allows developers to interact with incoming request data from the client and perform various actions on the server side."
      ],
      "metadata": {
        "id": "rIaagGAaOPmo"
      }
    },
    {
      "cell_type": "markdown",
      "source": [
        "Why is redirect() used in Flask?\n"
      ],
      "metadata": {
        "id": "ZHT2Wd_FPDyB"
      }
    },
    {
      "cell_type": "markdown",
      "source": [
        "In Flask, redirect() is a function that is used to redirect the user to a different URL. Here are some reasons why redirect() is used in Flask:\n",
        "\n",
        "Changing URLs:\n",
        "The redirect() function is used to change the URL displayed in the user's browser. This is useful when a user requests a page or resource that has moved to a different URL, or when a user has logged in and needs to be redirected to a different page.\n",
        "\n",
        "After form submission:\n",
        "After submitting a form, the redirect() function can be used to redirect the user to a confirmation page or to the page that displays the result of the form submission.\n",
        "\n",
        "Access control:\n",
        "The redirect() function is often used for access control. If a user tries to access a page or resource that requires authentication, they can be redirected to a login page.\n",
        "\n",
        "SEO friendly:\n",
        "The redirect() function can be used to create SEO-friendly URLs. For example, if a user requests a URL that is not optimized for search engines, they can be redirected to a URL that is more search engine friendly.\n",
        "\n",
        "In summary, the redirect() function is used to redirect the user to a different URL in Flask. It is useful for changing URLs, after form submission, access control, and creating SEO-friendly URLs."
      ],
      "metadata": {
        "id": "6tU4T8AXPG9Y"
      }
    },
    {
      "cell_type": "markdown",
      "source": [
        "Q4. What are templates in Flask? Why is the render_template() function used?"
      ],
      "metadata": {
        "id": "NsEBFVMpPSpF"
      }
    },
    {
      "cell_type": "markdown",
      "source": [
        "Templates in Flask are files that contain the structure and design of a web page. They are used to separate the presentation logic from the application logic, which makes it easier to maintain and modify the code. The templates can include placeholders for dynamic content, such as user input or data from a database. Flask uses the Jinja2 templating engine to render templates.\n",
        "\n",
        "The render_template() function is used in Flask to render a template and return the HTML content as a response to the client. This function takes a template filename and any data required for the template as arguments. The Jinja2 engine then processes the template and inserts the data to create a final HTML document.\n",
        "\n",
        "Here are some reasons why the render_template() function is used in Flask:\n",
        "\n",
        "Dynamic content:\n",
        "The render_template() function is used to render dynamic content on a web page. This allows developers to display data from a database or user input on the page.\n",
        "\n",
        "Consistent design:\n",
        "Templates allow developers to create a consistent design across all pages of the web application. This makes the application easier to use and improves the user experience.\n",
        "\n",
        "Easier maintenance:\n",
        "Templates allow developers to separate the presentation logic from the application logic. This makes it easier to maintain and modify the code as changes can be made to the template without affecting the underlying application logic.\n",
        "\n",
        "Reusability:\n",
        "Templates can be reused across multiple pages of a web application, which reduces the amount of code that needs to be written.\n",
        "\n",
        "In summary, templates in Flask are used to separate the presentation logic from the application logic. The render_template() function is used to render the template and return the HTML content as a response to the client. The function is used to display dynamic content, maintain consistent design, improve maintenance, and increase code reusability."
      ],
      "metadata": {
        "id": "LGnUqeadPXvb"
      }
    },
    {
      "cell_type": "markdown",
      "source": [
        "Q5. Create a simple API. Use Postman to test it. Attach the screenshot of the output in the Jupyter Notebook.\n",
        "\n"
      ],
      "metadata": {
        "id": "nJTHbNk6QaAY"
      }
    },
    {
      "cell_type": "code",
      "source": [
        "from flask import Flask , request ,render_template,jsonify\n",
        "app = Flask(__name__)\n",
        "\n",
        "@app.route('/',methods = ['GET','POST'])\n",
        "def home_page():\n",
        "    return render_template('index.html')\n",
        "\n",
        "\n",
        "\n",
        "@app.route('/postman_1',methods = ['POST'])\n",
        "def oper_b():\n",
        "    if (request.method == 'POST'):\n",
        "        opr = request.json['operation']\n",
        "        num1 = int(request.json['num1'])\n",
        "        num2 = int(request.json['num2'])\n",
        "        if opr == 'add':\n",
        "            r = num1+num2\n",
        "            result = f\"the sum of {num1} and {num2} is {r}\"\n",
        "        if ope == 'subtract':\n",
        "            r = num1 - num2\n",
        "            result = f\"the subtract of {num1} and {num2} is {r}\"\n",
        "        if ope == 'multiply':\n",
        "            r = num1 * num2\n",
        "            result = f\"the multiply of {num1} and {num2} is {r}\"    \n",
        "        return jsonify(result)  \n",
        "if __name__ == \"__main__\":\n",
        "    app.run(host=\"0.0.0.0\") \n",
        "    "
      ],
      "metadata": {
        "id": "S9jGY59KQnQW"
      },
      "execution_count": null,
      "outputs": []
    }
  ]
}